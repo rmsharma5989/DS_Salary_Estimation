{
 "cells": [
  {
   "cell_type": "markdown",
   "metadata": {},
   "source": [
    "### Data Science project\n",
    "1. Project planning\n",
    "2. Data Collection\n",
    "3. Data Cleaning\n",
    "4. Exploratory Data Analysis\n",
    "5. Model Building\n",
    "6. Production"
   ]
  },
  {
   "cell_type": "markdown",
   "metadata": {},
   "source": [
    "### best sources for DS journey\n",
    "\n",
    "1. Kaggle micro courses (python,machine learning)\n",
    "2. google machine learning crash course (google colabration)\n",
    "3. fast.ai (best for deep learning)\n",
    "4. python documentation\n",
    "\n",
    "from scratch\n",
    "first, complete the kaggle courses\n",
    "second, get along the github repositories and kaggle projects and follow what others are doing in it who are already success in it\n",
    "start my own project that include few packages like pandas, matplotlib plots, run a leaner regression using sklit run\n",
    "finally start a large project\n"
   ]
  },
  {
   "cell_type": "code",
   "execution_count": 12,
   "metadata": {},
   "outputs": [],
   "source": [
    "import selenium as s"
   ]
  }
 ],
 "metadata": {
  "kernelspec": {
   "display_name": "Python 3",
   "language": "python",
   "name": "python3"
  },
  "language_info": {
   "codemirror_mode": {
    "name": "ipython",
    "version": 3
   },
   "file_extension": ".py",
   "mimetype": "text/x-python",
   "name": "python",
   "nbconvert_exporter": "python",
   "pygments_lexer": "ipython3",
   "version": "3.7.6"
  }
 },
 "nbformat": 4,
 "nbformat_minor": 4
}
